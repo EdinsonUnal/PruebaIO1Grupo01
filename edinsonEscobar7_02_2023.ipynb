{
  "nbformat": 4,
  "nbformat_minor": 0,
  "metadata": {
    "colab": {
      "provenance": [],
      "authorship_tag": "ABX9TyP7zKYXH2+WltmdoW1P8nUE",
      "include_colab_link": true
    },
    "kernelspec": {
      "name": "python3",
      "display_name": "Python 3"
    },
    "language_info": {
      "name": "python"
    }
  },
  "cells": [
    {
      "cell_type": "markdown",
      "metadata": {
        "id": "view-in-github",
        "colab_type": "text"
      },
      "source": [
        "<a href=\"https://colab.research.google.com/github/EdinsonUnal/PruebaIO1Grupo01/blob/main/edinsonEscobar7_02_2023.ipynb\" target=\"_parent\"><img src=\"https://colab.research.google.com/assets/colab-badge.svg\" alt=\"Open In Colab\"/></a>"
      ]
    },
    {
      "cell_type": "markdown",
      "source": [
        "# Mi primera vez\n",
        "## Este un subtitulo\n"
      ],
      "metadata": {
        "id": "ILHlPiKveohO"
      }
    },
    {
      "cell_type": "code",
      "execution_count": null,
      "metadata": {
        "colab": {
          "base_uri": "https://localhost:8080/"
        },
        "id": "589HfFJSdiT9",
        "outputId": "22cbbf4e-51e6-424c-aba1-b94874966208"
      },
      "outputs": [
        {
          "output_type": "stream",
          "name": "stdout",
          "text": [
            "Hola mundo\n"
          ]
        }
      ],
      "source": [
        "print('dias mundo')"
      ]
    },
    {
      "cell_type": "markdown",
      "source": [
        "# Segundo ejercico"
      ],
      "metadata": {
        "id": "q1FPscndfJUd"
      }
    },
    {
      "cell_type": "code",
      "source": [
        "print('Hola, Alex')"
      ],
      "metadata": {
        "colab": {
          "base_uri": "https://localhost:8080/"
        },
        "id": "NZY4WRUofS03",
        "outputId": "545f4c49-f596-4f39-e1b9-194a12950ea8"
      },
      "execution_count": 1,
      "outputs": [
        {
          "output_type": "stream",
          "name": "stdout",
          "text": [
            "Hola, Alex\n"
          ]
        }
      ]
    },
    {
      "cell_type": "markdown",
      "source": [
        "# Tercer ejercicio"
      ],
      "metadata": {
        "id": "-1auO0Ppl9fc"
      }
    },
    {
      "cell_type": "code",
      "source": [
        "print('Tercer Print')"
      ],
      "metadata": {
        "id": "CqaRNid6mFlV"
      },
      "execution_count": null,
      "outputs": []
    }
  ]
}